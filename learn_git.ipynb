{
  "nbformat": 4,
  "nbformat_minor": 0,
  "metadata": {
    "colab": {
      "provenance": [],
      "authorship_tag": "ABX9TyP6YVUA57lXh08800rWqSmj",
      "include_colab_link": true
    },
    "kernelspec": {
      "name": "python3",
      "display_name": "Python 3"
    },
    "language_info": {
      "name": "python"
    }
  },
  "cells": [
    {
      "cell_type": "markdown",
      "metadata": {
        "id": "view-in-github",
        "colab_type": "text"
      },
      "source": [
        "<a href=\"https://colab.research.google.com/github/BenAtigIbrahim/matrix/blob/main/learn_git.ipynb\" target=\"_parent\"><img src=\"https://colab.research.google.com/assets/colab-badge.svg\" alt=\"Open In Colab\"/></a>"
      ]
    },
    {
      "cell_type": "markdown",
      "source": [
        "# Step 1: Create a folder called learn_git"
      ],
      "metadata": {
        "id": "qUBnEKd_1HMX"
      }
    },
    {
      "cell_type": "code",
      "source": [
        "!mkdir learn_git"
      ],
      "metadata": {
        "id": "N44bZsxHrZ34"
      },
      "execution_count": 86,
      "outputs": []
    },
    {
      "cell_type": "markdown",
      "source": [
        "# Step 2: Change directory into the learn_git folder"
      ],
      "metadata": {
        "id": "AiMrUMX61Eq4"
      }
    },
    {
      "cell_type": "code",
      "source": [
        "%cd learn_git"
      ],
      "metadata": {
        "colab": {
          "base_uri": "https://localhost:8080/"
        },
        "id": "QGoIR78TsBw1",
        "outputId": "2c162901-c7af-4f55-a5d4-427a4f48c2f8"
      },
      "execution_count": 87,
      "outputs": [
        {
          "output_type": "stream",
          "name": "stdout",
          "text": [
            "/content/learn_git/learn_git/learn_git/learn_git/learn_git/learn_git/learn_git/learn_git\n"
          ]
        }
      ]
    },
    {
      "cell_type": "markdown",
      "source": [
        "# Step 3: Create a file called third.txt"
      ],
      "metadata": {
        "id": "gCU1C4pA1TrI"
      }
    },
    {
      "cell_type": "code",
      "source": [
        "!touch third.txt"
      ],
      "metadata": {
        "id": "Skzjx3s6upB2"
      },
      "execution_count": 88,
      "outputs": []
    },
    {
      "cell_type": "markdown",
      "source": [
        "# Step 4: Initialize an empty git repository"
      ],
      "metadata": {
        "id": "XeFvvbUA1U2W"
      }
    },
    {
      "cell_type": "code",
      "source": [
        "!git init"
      ],
      "metadata": {
        "colab": {
          "base_uri": "https://localhost:8080/"
        },
        "id": "nqaSrUnYuxX1",
        "outputId": "d65ab50c-2f69-4033-99ec-5c5d0ab2caba"
      },
      "execution_count": 89,
      "outputs": [
        {
          "output_type": "stream",
          "name": "stdout",
          "text": [
            "\u001b[33mhint: Using 'master' as the name for the initial branch. This default branch name\u001b[m\n",
            "\u001b[33mhint: is subject to change. To configure the initial branch name to use in all\u001b[m\n",
            "\u001b[33mhint: of your new repositories, which will suppress this warning, call:\u001b[m\n",
            "\u001b[33mhint: \u001b[m\n",
            "\u001b[33mhint: \tgit config --global init.defaultBranch <name>\u001b[m\n",
            "\u001b[33mhint: \u001b[m\n",
            "\u001b[33mhint: Names commonly chosen instead of 'master' are 'main', 'trunk' and\u001b[m\n",
            "\u001b[33mhint: 'development'. The just-created branch can be renamed via this command:\u001b[m\n",
            "\u001b[33mhint: \u001b[m\n",
            "\u001b[33mhint: \tgit branch -m <name>\u001b[m\n",
            "Initialized empty Git repository in /content/learn_git/learn_git/learn_git/learn_git/learn_git/learn_git/learn_git/learn_git/.git/\n"
          ]
        }
      ]
    },
    {
      "cell_type": "markdown",
      "source": [
        "# Step 5: Add third.txt to the staging area"
      ],
      "metadata": {
        "id": "phgvoPxp2JTq"
      }
    },
    {
      "cell_type": "code",
      "source": [
        "!git add third.txt"
      ],
      "metadata": {
        "id": "HKlEGzhIu6Vc"
      },
      "execution_count": 90,
      "outputs": []
    },
    {
      "cell_type": "markdown",
      "source": [
        "# Step 6: Commit with the message \"adding third.txt\""
      ],
      "metadata": {
        "id": "8hCfrc8F2RCe"
      }
    },
    {
      "cell_type": "code",
      "source": [
        "!git commit -m \"adding third.txt\""
      ],
      "metadata": {
        "colab": {
          "base_uri": "https://localhost:8080/"
        },
        "id": "d0_zsaACvNdG",
        "outputId": "8cc87f32-f09b-4ad9-b383-4f191fd013a4"
      },
      "execution_count": 91,
      "outputs": [
        {
          "output_type": "stream",
          "name": "stdout",
          "text": [
            "[master (root-commit) 19b0568] adding third.txt\n",
            " 1 file changed, 0 insertions(+), 0 deletions(-)\n",
            " create mode 100644 third.txt\n"
          ]
        }
      ]
    },
    {
      "cell_type": "markdown",
      "source": [
        "# Step 7: Check out your commit with git log"
      ],
      "metadata": {
        "id": "mv37BIVm2R3x"
      }
    },
    {
      "cell_type": "code",
      "source": [
        "!git config --global user.email \"ibrabenatig@gmail.com\"\n",
        "!git config --global user.name \"ibrahim\""
      ],
      "metadata": {
        "id": "oWP6uxS5xTiW"
      },
      "execution_count": 92,
      "outputs": []
    },
    {
      "cell_type": "code",
      "source": [
        "!git log"
      ],
      "metadata": {
        "colab": {
          "base_uri": "https://localhost:8080/"
        },
        "id": "DyG9Sf-Kytru",
        "outputId": "6990d466-87d5-4064-d4f5-0a7eac19c651"
      },
      "execution_count": 93,
      "outputs": [
        {
          "output_type": "stream",
          "name": "stdout",
          "text": [
            "\u001b[33mcommit 19b05688398754bbd6d2fe0b8203fd92a54f2da4\u001b[m\u001b[33m (\u001b[m\u001b[1;36mHEAD -> \u001b[m\u001b[1;32mmaster\u001b[m\u001b[33m)\u001b[m\n",
            "Author: ibrahim <ibrabenatig@gmail.com>\n",
            "Date:   Sat Nov 9 12:27:28 2024 +0000\n",
            "\n",
            "    adding third.txt\n"
          ]
        }
      ]
    },
    {
      "cell_type": "markdown",
      "source": [
        "# Step 8: Create a file called fourth.txt"
      ],
      "metadata": {
        "id": "Bs1RvU3l2rIO"
      }
    },
    {
      "cell_type": "code",
      "source": [
        "!touch fourth.txt"
      ],
      "metadata": {
        "id": "u4Za_CW1zSwv"
      },
      "execution_count": 94,
      "outputs": []
    },
    {
      "cell_type": "markdown",
      "source": [
        "# Step 9: Add fourth.txt to the staging area"
      ],
      "metadata": {
        "id": "xKF574WL2xKo"
      }
    },
    {
      "cell_type": "code",
      "source": [
        "!git add fourth.txt"
      ],
      "metadata": {
        "id": "rrVxochvzYZI"
      },
      "execution_count": 95,
      "outputs": []
    },
    {
      "cell_type": "markdown",
      "source": [
        "# Step 10: Commit with the message \"adding fourth.txt\""
      ],
      "metadata": {
        "id": "zytopDgQ2yJh"
      }
    },
    {
      "cell_type": "code",
      "source": [
        "!git commit -m \"adding fourth.txt\""
      ],
      "metadata": {
        "colab": {
          "base_uri": "https://localhost:8080/"
        },
        "id": "DIZ-Ej9jzgUV",
        "outputId": "b9a918d0-6b85-4b0b-d9a6-9a11af79bfc3"
      },
      "execution_count": 96,
      "outputs": [
        {
          "output_type": "stream",
          "name": "stdout",
          "text": [
            "[master 293c5b9] adding fourth.txt\n",
            " 1 file changed, 0 insertions(+), 0 deletions(-)\n",
            " create mode 100644 fourth.txt\n"
          ]
        }
      ]
    },
    {
      "cell_type": "markdown",
      "source": [
        "# Step 11: Remove the third.txt file"
      ],
      "metadata": {
        "id": "QLC1uzpv26Qk"
      }
    },
    {
      "cell_type": "code",
      "source": [
        "!rm third.txt"
      ],
      "metadata": {
        "id": "A2adGe4VznfV"
      },
      "execution_count": 97,
      "outputs": []
    },
    {
      "cell_type": "markdown",
      "source": [
        "# Step 12: Add this change to the staging area"
      ],
      "metadata": {
        "id": "21dMhVj829vv"
      }
    },
    {
      "cell_type": "code",
      "source": [
        "!git add ."
      ],
      "metadata": {
        "id": "v3Y5D8_yzr4V"
      },
      "execution_count": 98,
      "outputs": []
    },
    {
      "cell_type": "markdown",
      "source": [
        "# Step 13: Commit with the message \"removing third.txt\""
      ],
      "metadata": {
        "id": "VHspA1GD27N6"
      }
    },
    {
      "cell_type": "code",
      "source": [
        "!git commit -m \"removing third.txt\""
      ],
      "metadata": {
        "colab": {
          "base_uri": "https://localhost:8080/"
        },
        "id": "q623Kb6izw9B",
        "outputId": "b304473c-73ab-4791-96b1-4b3b4597a5b7"
      },
      "execution_count": 99,
      "outputs": [
        {
          "output_type": "stream",
          "name": "stdout",
          "text": [
            "[master e2e6ffe] removing third.txt\n",
            " 1 file changed, 0 insertions(+), 0 deletions(-)\n",
            " delete mode 100644 third.txt\n"
          ]
        }
      ]
    },
    {
      "cell_type": "markdown",
      "source": [
        "# Step 14: Check out your commits using git log"
      ],
      "metadata": {
        "id": "AinUa54M3N-L"
      }
    },
    {
      "cell_type": "code",
      "source": [
        "!git log"
      ],
      "metadata": {
        "colab": {
          "base_uri": "https://localhost:8080/"
        },
        "id": "qmD7Xymn0BAW",
        "outputId": "728c3220-460b-4e28-8d52-4be19b4569c2"
      },
      "execution_count": 100,
      "outputs": [
        {
          "output_type": "stream",
          "name": "stdout",
          "text": [
            "\u001b[33mcommit e2e6ffecfa616583f3d75452f68a53e82ce85ab7\u001b[m\u001b[33m (\u001b[m\u001b[1;36mHEAD -> \u001b[m\u001b[1;32mmaster\u001b[m\u001b[33m)\u001b[m\n",
            "Author: ibrahim <ibrabenatig@gmail.com>\n",
            "Date:   Sat Nov 9 12:27:29 2024 +0000\n",
            "\n",
            "    removing third.txt\n",
            "\n",
            "\u001b[33mcommit 293c5b95634852b877a3ca343092526597659cf1\u001b[m\n",
            "Author: ibrahim <ibrabenatig@gmail.com>\n",
            "Date:   Sat Nov 9 12:27:29 2024 +0000\n",
            "\n",
            "    adding fourth.txt\n",
            "\n",
            "\u001b[33mcommit 19b05688398754bbd6d2fe0b8203fd92a54f2da4\u001b[m\n",
            "Author: ibrahim <ibrabenatig@gmail.com>\n",
            "Date:   Sat Nov 9 12:27:28 2024 +0000\n",
            "\n",
            "    adding third.txt\n"
          ]
        }
      ]
    },
    {
      "cell_type": "markdown",
      "source": [
        "# Step 15: Change your global settings to core.pager=cat"
      ],
      "metadata": {
        "id": "1ZvTK2vV3ZWf"
      }
    },
    {
      "cell_type": "code",
      "source": [
        "!git config --global core.pager \"cat\""
      ],
      "metadata": {
        "id": "oOeMWXiB0u6F"
      },
      "execution_count": 101,
      "outputs": []
    },
    {
      "cell_type": "markdown",
      "source": [
        "# Step 16: List all the global configurations for git on your machine"
      ],
      "metadata": {
        "id": "kv_qycGT3bce"
      }
    },
    {
      "cell_type": "code",
      "source": [
        "!git config --global --list"
      ],
      "metadata": {
        "colab": {
          "base_uri": "https://localhost:8080/"
        },
        "id": "e3ZJQk-a02N-",
        "outputId": "4503e4cd-f3ce-4a06-c953-df013f27f17c"
      },
      "execution_count": 102,
      "outputs": [
        {
          "output_type": "stream",
          "name": "stdout",
          "text": [
            "user.email=ibrabenatig@gmail.com\n",
            "user.name=ibrahim\n",
            "core.pager=cat\n"
          ]
        }
      ]
    }
  ]
}