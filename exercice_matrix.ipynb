{
  "nbformat": 4,
  "nbformat_minor": 0,
  "metadata": {
    "colab": {
      "provenance": [],
      "mount_file_id": "1YQxeNyoJUSXJ-YVlZ5A6Ek10MQsKLb9T",
      "authorship_tag": "ABX9TyNpdKvPAF/qoC76G8dVfjnR",
      "include_colab_link": true
    },
    "kernelspec": {
      "name": "python3",
      "display_name": "Python 3"
    },
    "language_info": {
      "name": "python"
    }
  },
  "cells": [
    {
      "cell_type": "markdown",
      "metadata": {
        "id": "view-in-github",
        "colab_type": "text"
      },
      "source": [
        "<a href=\"https://colab.research.google.com/github/BenAtigIbrahim/matrix/blob/main/exercice_matrix.ipynb\" target=\"_parent\"><img src=\"https://colab.research.google.com/assets/colab-badge.svg\" alt=\"Open In Colab\"/></a>"
      ]
    },
    {
      "cell_type": "markdown",
      "source": [
        "# ***Matrix (erray) exercise***"
      ],
      "metadata": {
        "id": "FQoZoP3HGvAI"
      }
    },
    {
      "cell_type": "markdown",
      "source": [
        "**step 1 : create a Matrix**"
      ],
      "metadata": {
        "id": "bukb6iKfIAfC"
      }
    },
    {
      "cell_type": "code",
      "source": [
        "# Matrix 2 rows an 3 columns\n",
        "matrix=([10,2,3],\n",
        "        [8,6,10])\n",
        "print(\"this is my matrix: \", matrix)"
      ],
      "metadata": {
        "colab": {
          "base_uri": "https://localhost:8080/"
        },
        "id": "rFRCHlHSIbcc",
        "outputId": "a0c4fc3f-9286-4187-de23-fa8f30c143ca"
      },
      "execution_count": null,
      "outputs": [
        {
          "output_type": "stream",
          "name": "stdout",
          "text": [
            "this is my matrix:  ([10, 2, 3], [8, 6, 10])\n"
          ]
        }
      ]
    },
    {
      "cell_type": "markdown",
      "source": [
        "***step 2 :Identify the data type of the matrix and calculate the mean, mode and median of the data.***"
      ],
      "metadata": {
        "id": "XNPHrHU0MGU_"
      }
    },
    {
      "cell_type": "code",
      "source": [
        "# Data type of the matrix\n",
        "import numpy as np\n",
        "matrix=np.array([[10,2,3],\n",
        "                 [8,6,10]])\n",
        "data_type = matrix.dtype\n",
        "print(\"Data type of the matrix:\", data_type)   # matrix is a némurical data"
      ],
      "metadata": {
        "colab": {
          "base_uri": "https://localhost:8080/"
        },
        "id": "av-j-HHrO0TE",
        "outputId": "27fa31ed-aaae-4f87-8b42-7fda1b857b17"
      },
      "execution_count": null,
      "outputs": [
        {
          "output_type": "stream",
          "name": "stdout",
          "text": [
            "Data type of the matrix: int64\n"
          ]
        }
      ]
    },
    {
      "cell_type": "code",
      "source": [
        "# calculate the mean\n",
        "mean_value=np.mean(matrix)\n",
        "print(\"the mean value of matrix : \" , mean_value)"
      ],
      "metadata": {
        "colab": {
          "base_uri": "https://localhost:8080/"
        },
        "id": "6awVdkHoPwEJ",
        "outputId": "9ef1466a-e950-4af7-ba33-39514e658084"
      },
      "execution_count": null,
      "outputs": [
        {
          "output_type": "stream",
          "name": "stdout",
          "text": [
            "the mean value of matrix :  6.5\n"
          ]
        }
      ]
    },
    {
      "cell_type": "code",
      "source": [
        "# calculate the médian :\n",
        "median_value = np.median(matrix)\n",
        "print(\"the median of matrix :\", median_value)"
      ],
      "metadata": {
        "colab": {
          "base_uri": "https://localhost:8080/"
        },
        "id": "_ftUTdbncjQF",
        "outputId": "76d8fa70-1dd2-4f06-dfdd-4aa502d48611"
      },
      "execution_count": null,
      "outputs": [
        {
          "output_type": "stream",
          "name": "stdout",
          "text": [
            "the median of matrix : 7.0\n"
          ]
        }
      ]
    },
    {
      "cell_type": "code",
      "source": [
        "# calculate the mode : j'Essaye de trouver le mode avec scipy\n",
        "from scipy import stats\n",
        "mode = stats.mode(matrix, axis=None)\n",
        "print(\"the Mode of matrix :\", mode)"
      ],
      "metadata": {
        "colab": {
          "base_uri": "https://localhost:8080/"
        },
        "id": "7Ygsfxu6SUal",
        "outputId": "69bd0da9-4e1f-4c8a-90b2-873641b771cb"
      },
      "execution_count": null,
      "outputs": [
        {
          "output_type": "stream",
          "name": "stdout",
          "text": [
            "the Mode of matrix : ModeResult(mode=10, count=2)\n"
          ]
        }
      ]
    },
    {
      "cell_type": "markdown",
      "source": [
        "***step 3 : Perform basic matrix operations (addition, subtraction, transpose and scalar multiplication) on the matrix***"
      ],
      "metadata": {
        "id": "JMOlw-5mhe1F"
      }
    },
    {
      "cell_type": "code",
      "source": [
        "# Assuming we have another matrixB for operations\n",
        "matrixB = ([1,2,3],\n",
        "          [4,5,6])\n",
        "matrixB = np.array([[1,2,3],\n",
        "                    [4,5,6]])\n",
        "print(\"this my MatrixB : \" , matrixB)"
      ],
      "metadata": {
        "colab": {
          "base_uri": "https://localhost:8080/"
        },
        "id": "1hiO5TOcsGsg",
        "outputId": "36944daf-fffb-49ee-d41f-51722c38af3b"
      },
      "execution_count": null,
      "outputs": [
        {
          "output_type": "stream",
          "name": "stdout",
          "text": [
            "this my MatrixB :  [[1 2 3]\n",
            " [4 5 6]]\n"
          ]
        }
      ]
    },
    {
      "cell_type": "code",
      "source": [
        "# addition : matrix + matrixB\n",
        "addition_value = np.add(matrix, matrixB)\n",
        "print(\"the addition of matrix + matrixB : \" , addition_value)"
      ],
      "metadata": {
        "colab": {
          "base_uri": "https://localhost:8080/"
        },
        "id": "i0fTstY_uQQw",
        "outputId": "1ef5a354-905d-485d-e2a7-439f538ecbec"
      },
      "execution_count": null,
      "outputs": [
        {
          "output_type": "stream",
          "name": "stdout",
          "text": [
            "the addition of matrix + matrixB :  [[11  4  6]\n",
            " [12 11 16]]\n"
          ]
        }
      ]
    },
    {
      "cell_type": "code",
      "source": [
        "# subtraction : matrix - matrixB\n",
        "subtraction_value = np.subtract(matrix, matrixB)\n",
        "print(\"the subtraction of matrix - matrixB : \" , subtraction_value)"
      ],
      "metadata": {
        "colab": {
          "base_uri": "https://localhost:8080/"
        },
        "id": "hlhkU_v3wCui",
        "outputId": "e52a22df-24ec-462e-fbbc-ac3a3776e804"
      },
      "execution_count": null,
      "outputs": [
        {
          "output_type": "stream",
          "name": "stdout",
          "text": [
            "the subtraction of matrix - matrixB :  [[9 0 0]\n",
            " [4 1 4]]\n"
          ]
        }
      ]
    },
    {
      "cell_type": "code",
      "source": [
        "# transpose matrix :\n",
        "transpose_matrix = np.transpose(matrix)\n",
        "print(\"the transpose of matrix : \" , transpose_matrix)"
      ],
      "metadata": {
        "colab": {
          "base_uri": "https://localhost:8080/"
        },
        "id": "3ILfiZ1Wwuqw",
        "outputId": "93a95857-08c7-4f74-c86b-4055b6343fe9"
      },
      "execution_count": null,
      "outputs": [
        {
          "output_type": "stream",
          "name": "stdout",
          "text": [
            "the transpose of matrix :  [[10  8]\n",
            " [ 2  6]\n",
            " [ 3 10]]\n"
          ]
        }
      ]
    },
    {
      "cell_type": "code",
      "source": [
        "# transpose matrixB\n",
        "transpose_matrixB = np.transpose(matrixB)\n",
        "print(\"transpose of matrixB : \" , transpose_matrixB)"
      ],
      "metadata": {
        "colab": {
          "base_uri": "https://localhost:8080/"
        },
        "id": "RdziLxfQxWl3",
        "outputId": "1dd7936a-47ed-4a60-a2f3-8b779c814e5d"
      },
      "execution_count": null,
      "outputs": [
        {
          "output_type": "stream",
          "name": "stdout",
          "text": [
            "transpose of matrixB :  [[1 4]\n",
            " [2 5]\n",
            " [3 6]]\n"
          ]
        }
      ]
    },
    {
      "cell_type": "code",
      "source": [
        "# scalar multiplication 3*matrix\n",
        "scalar_multiplication_result = 3 * matrix\n",
        "print(\"multiplication matrix result : \", scalar_multiplication_result)"
      ],
      "metadata": {
        "colab": {
          "base_uri": "https://localhost:8080/"
        },
        "id": "4HJc9LEBzap2",
        "outputId": "693d5b61-9599-438c-ca6b-7a849e7a3f42"
      },
      "execution_count": null,
      "outputs": [
        {
          "output_type": "stream",
          "name": "stdout",
          "text": [
            "multiplication matrix result :  [[30  6  9]\n",
            " [24 18 30]]\n"
          ]
        }
      ]
    },
    {
      "cell_type": "code",
      "source": [
        "# scalar multiplication 5*matrixB\n",
        "scalar_multiplication_result = 5 * matrixB\n",
        "print(\"multiplication matrixB result : \", scalar_multiplication_result)"
      ],
      "metadata": {
        "colab": {
          "base_uri": "https://localhost:8080/"
        },
        "id": "vt1Wh5xA0uzS",
        "outputId": "8013a26c-af57-47d2-c334-6c0322fc2127"
      },
      "execution_count": null,
      "outputs": [
        {
          "output_type": "stream",
          "name": "stdout",
          "text": [
            "multiplication matrixB result :  [[ 5 10 15]\n",
            " [20 25 30]]\n"
          ]
        }
      ]
    }
  ]
}