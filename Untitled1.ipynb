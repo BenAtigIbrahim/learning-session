{
  "nbformat": 4,
  "nbformat_minor": 0,
  "metadata": {
    "colab": {
      "provenance": [],
      "mount_file_id": "1P4JanajWBm1QSrdFjI8EdvgB5KAePxYq",
      "authorship_tag": "ABX9TyNjGx6r0n84Qo9nbi8eOPMJ",
      "include_colab_link": true
    },
    "kernelspec": {
      "name": "python3",
      "display_name": "Python 3"
    },
    "language_info": {
      "name": "python"
    }
  },
  "cells": [
    {
      "cell_type": "markdown",
      "metadata": {
        "id": "view-in-github",
        "colab_type": "text"
      },
      "source": [
        "<a href=\"https://colab.research.google.com/github/BenAtigIbrahim/matrix/blob/main/Untitled1.ipynb\" target=\"_parent\"><img src=\"https://colab.research.google.com/assets/colab-badge.svg\" alt=\"Open In Colab\"/></a>"
      ]
    },
    {
      "cell_type": "markdown",
      "source": [
        "# matrix (array)"
      ],
      "metadata": {
        "id": "2iFtsN4CnDAK"
      }
    },
    {
      "cell_type": "code",
      "source": [
        "matrix =([1,2,3],\n",
        "         [4,5,6],\n",
        "         [7,8,9])\n",
        "print(\"voila ma matrice : \",  matrix)"
      ],
      "metadata": {
        "colab": {
          "base_uri": "https://localhost:8080/"
        },
        "id": "5miIZHVzm_Bn",
        "outputId": "04b7ec40-a034-46e0-d317-20c194c9c4f2"
      },
      "execution_count": 7,
      "outputs": [
        {
          "output_type": "stream",
          "name": "stdout",
          "text": [
            "voila ma matrice :  ([1, 2, 3], [4, 5, 6], [7, 8, 9])\n"
          ]
        }
      ]
    },
    {
      "cell_type": "code",
      "source": [
        "import numpy as np\n",
        "matrix=np.array([[1,2,3],\n",
        "                 [4,5,6],\n",
        "                 [7,8,9]])\n",
        "mean_value=np.mean(matrix)\n",
        "print(\"la moyenne est égale a :\", mean_value)"
      ],
      "metadata": {
        "colab": {
          "base_uri": "https://localhost:8080/"
        },
        "id": "v5fQPCr9ntzt",
        "outputId": "529e95fc-2cbf-4c25-f2fa-e2dfd0740e21"
      },
      "execution_count": 8,
      "outputs": [
        {
          "output_type": "stream",
          "name": "stdout",
          "text": [
            "la moyenne est égale a : 5.0\n"
          ]
        }
      ]
    },
    {
      "cell_type": "code",
      "source": [
        "mediane_value=np.median(matrix)\n",
        "print(\"la moyenne est égale a :\", mediane_value)"
      ],
      "metadata": {
        "colab": {
          "base_uri": "https://localhost:8080/"
        },
        "id": "fbN-rTmstjI9",
        "outputId": "ffda6712-260c-470b-9773-7e5c02628ada"
      },
      "execution_count": 9,
      "outputs": [
        {
          "output_type": "stream",
          "name": "stdout",
          "text": [
            "la moyenne est égale a : 5.0\n"
          ]
        }
      ]
    },
    {
      "cell_type": "markdown",
      "source": [
        "#lista"
      ],
      "metadata": {
        "id": "3cgSXW2Kyysf"
      }
    },
    {
      "cell_type": "code",
      "source": [
        "lista=(-2,50,15,20.5,90)\n",
        "lista"
      ],
      "metadata": {
        "colab": {
          "base_uri": "https://localhost:8080/"
        },
        "id": "zsGMkhaXuCws",
        "outputId": "34f22e2a-4b59-41e1-e943-170bf19c70b7"
      },
      "execution_count": 10,
      "outputs": [
        {
          "output_type": "execute_result",
          "data": {
            "text/plain": [
              "(-2, 50, 15, 20.5, 90)"
            ]
          },
          "metadata": {},
          "execution_count": 10
        }
      ]
    },
    {
      "cell_type": "code",
      "source": [
        "min(lista)"
      ],
      "metadata": {
        "colab": {
          "base_uri": "https://localhost:8080/"
        },
        "id": "zb18zk5FuR-g",
        "outputId": "8355b0b0-9199-4f40-e5f5-2e3b8033cfa2"
      },
      "execution_count": 11,
      "outputs": [
        {
          "output_type": "execute_result",
          "data": {
            "text/plain": [
              "-2"
            ]
          },
          "metadata": {},
          "execution_count": 11
        }
      ]
    },
    {
      "cell_type": "code",
      "source": [
        "max(lista)"
      ],
      "metadata": {
        "colab": {
          "base_uri": "https://localhost:8080/"
        },
        "id": "f89krGY0uj5z",
        "outputId": "cac9ea1c-ed3a-4b8d-865c-4e77d9c62958"
      },
      "execution_count": 12,
      "outputs": [
        {
          "output_type": "execute_result",
          "data": {
            "text/plain": [
              "90"
            ]
          },
          "metadata": {},
          "execution_count": 12
        }
      ]
    },
    {
      "cell_type": "code",
      "source": [
        "sum(lista)"
      ],
      "metadata": {
        "colab": {
          "base_uri": "https://localhost:8080/"
        },
        "id": "VBnOq1CHukFC",
        "outputId": "97037aed-1ad3-45e2-89f9-a8fb4fdb426e"
      },
      "execution_count": 13,
      "outputs": [
        {
          "output_type": "execute_result",
          "data": {
            "text/plain": [
              "173.5"
            ]
          },
          "metadata": {},
          "execution_count": 13
        }
      ]
    },
    {
      "cell_type": "code",
      "source": [
        "#index=indice\n",
        "lista[0]"
      ],
      "metadata": {
        "colab": {
          "base_uri": "https://localhost:8080/"
        },
        "id": "vvZlddq3vim0",
        "outputId": "4dc7fee1-0a70-4b1c-884d-9c1f756c848c"
      },
      "execution_count": 17,
      "outputs": [
        {
          "output_type": "execute_result",
          "data": {
            "text/plain": [
              "-2"
            ]
          },
          "metadata": {},
          "execution_count": 17
        }
      ]
    },
    {
      "cell_type": "markdown",
      "source": [
        "# GIT"
      ],
      "metadata": {
        "id": "1t0pQTI7piWA"
      }
    },
    {
      "cell_type": "code",
      "source": [
        "!git init   #!=command   #/content/.git/ = path"
      ],
      "metadata": {
        "colab": {
          "base_uri": "https://localhost:8080/"
        },
        "id": "GWCvK__DqCTO",
        "outputId": "80ef19fb-0fe5-4da8-a297-e35b98dd1785"
      },
      "execution_count": 36,
      "outputs": [
        {
          "output_type": "stream",
          "name": "stdout",
          "text": [
            "Reinitialized existing Git repository in /content/.git/\n"
          ]
        }
      ]
    },
    {
      "cell_type": "code",
      "source": [
        "!git add /content/drive/MyDrive/first_colab_file.ipynb #ipynb :jupytaire file(extension)"
      ],
      "metadata": {
        "id": "c_61sMFhrbxW"
      },
      "execution_count": 37,
      "outputs": []
    },
    {
      "cell_type": "code",
      "source": [
        "!git status  #to check the current status of your repository master"
      ],
      "metadata": {
        "colab": {
          "base_uri": "https://localhost:8080/"
        },
        "id": "3EgfllOd8g43",
        "outputId": "df408954-d683-4c62-de33-4be5b6266ff5"
      },
      "execution_count": 38,
      "outputs": [
        {
          "output_type": "stream",
          "name": "stdout",
          "text": [
            "On branch master\n",
            "\n",
            "No commits yet\n",
            "\n",
            "Changes to be committed:\n",
            "  (use \"git rm --cached <file>...\" to unstage)\n",
            "\t\u001b[32mnew file:   drive/MyDrive/Untitled0.ipynb\u001b[m\n",
            "\t\u001b[32mnew file:   drive/MyDrive/first_colab_file.ipynb\u001b[m\n",
            "\n",
            "Changes not staged for commit:\n",
            "  (use \"git add/rm <file>...\" to update what will be committed)\n",
            "  (use \"git restore <file>...\" to discard changes in working directory)\n",
            "\t\u001b[31mdeleted:    drive/MyDrive/Untitled0.ipynb\u001b[m\n",
            "\n",
            "Untracked files:\n",
            "  (use \"git add <file>...\" to include in what will be committed)\n",
            "\t\u001b[31m.config/\u001b[m\n",
            "\t\u001b[31m\"drive/MyDrive/0_\\330\\254-converti.pdf\"\u001b[m\n",
            "\t\u001b[31mdrive/MyDrive/803 TU 136 '2019'.xlsx\u001b[m\n",
            "\t\u001b[31mdrive/MyDrive/CV01.pdf\u001b[m\n",
            "\t\u001b[31mdrive/MyDrive/CV_2022-09-18-095107.pdf\u001b[m\n",
            "\t\u001b[31mdrive/MyDrive/DATA COLLECTION METHODHS/\u001b[m\n",
            "\t\u001b[31mdrive/MyDrive/RIB.pdf\u001b[m\n",
            "\t\u001b[31mdrive/MyDrive/RS 2023.pdf\u001b[m\n",
            "\t\u001b[31mdrive/MyDrive/Untitled1.ipynb\u001b[m\n",
            "\t\u001b[31mdrive/MyDrive/Untitled2.ipynb\u001b[m\n",
            "\t\u001b[31mdrive/MyDrive/Untitled3.ipynb\u001b[m\n",
            "\t\u001b[31m\"drive/MyDrive/\\331\\201\\331\\206 \\330\\247\\331\\204\\331\\204\\330\\247 \\331\\205\\330\\250\\330\\247\\331\\204\\330\\247\\330\\251.pdf\"\u001b[m\n",
            "\t\u001b[31msample_data/\u001b[m\n",
            "\n"
          ]
        }
      ]
    },
    {
      "cell_type": "code",
      "source": [
        "!git commit -m \"first commit at 8pm 24 october\""
      ],
      "metadata": {
        "colab": {
          "base_uri": "https://localhost:8080/"
        },
        "id": "rHpHU5z74eCi",
        "outputId": "ac555fa3-db1e-4d34-baab-ef3276dd6d9c"
      },
      "execution_count": 39,
      "outputs": [
        {
          "output_type": "stream",
          "name": "stdout",
          "text": [
            "Author identity unknown\n",
            "\n",
            "*** Please tell me who you are.\n",
            "\n",
            "Run\n",
            "\n",
            "  git config --global user.email \"you@example.com\"\n",
            "  git config --global user.name \"Your Name\"\n",
            "\n",
            "to set your account's default identity.\n",
            "Omit --global to set the identity only in this repository.\n",
            "\n",
            "fatal: unable to auto-detect email address (got 'root@202b01a56f69.(none)')\n"
          ]
        }
      ]
    },
    {
      "cell_type": "code",
      "source": [
        "#authentification :email+name\n",
        "!git config --global user.email \"ibrabenatig@gmail.com\"\n",
        "!git config --global user.name \"ibrahim\""
      ],
      "metadata": {
        "id": "6nShR2cm_LD8"
      },
      "execution_count": 43,
      "outputs": []
    },
    {
      "cell_type": "code",
      "source": [
        "!git commit -m \"second commit\""
      ],
      "metadata": {
        "colab": {
          "base_uri": "https://localhost:8080/"
        },
        "id": "4se4Gf34CJ8i",
        "outputId": "ec744f19-dfbe-40b3-fc3b-a33e915d7429"
      },
      "execution_count": 44,
      "outputs": [
        {
          "output_type": "stream",
          "name": "stdout",
          "text": [
            "[master (root-commit) a6a67a5] second commit\n",
            " 2 files changed, 2 insertions(+)\n",
            " create mode 100644 drive/MyDrive/Untitled0.ipynb\n",
            " create mode 100644 drive/MyDrive/first_colab_file.ipynb\n"
          ]
        }
      ]
    },
    {
      "cell_type": "code",
      "source": [
        "import numpy\n",
        "numpy.__version__"
      ],
      "metadata": {
        "colab": {
          "base_uri": "https://localhost:8080/",
          "height": 35
        },
        "id": "nyoYnQx_Cie-",
        "outputId": "3e00a617-46ab-4f85-d507-dcd0eed6bcb4"
      },
      "execution_count": 46,
      "outputs": [
        {
          "output_type": "execute_result",
          "data": {
            "text/plain": [
              "'1.26.4'"
            ],
            "application/vnd.google.colaboratory.intrinsic+json": {
              "type": "string"
            }
          },
          "metadata": {},
          "execution_count": 46
        }
      ]
    },
    {
      "cell_type": "code",
      "source": [
        "!git commit -m \"initial commit - after numpy\""
      ],
      "metadata": {
        "colab": {
          "base_uri": "https://localhost:8080/"
        },
        "id": "tLoNyCTnCzGu",
        "outputId": "dab97d81-eae0-4bb6-af65-80e23bb5b29e"
      },
      "execution_count": 47,
      "outputs": [
        {
          "output_type": "stream",
          "name": "stdout",
          "text": [
            "On branch master\n",
            "Changes not staged for commit:\n",
            "  (use \"git add/rm <file>...\" to update what will be committed)\n",
            "  (use \"git restore <file>...\" to discard changes in working directory)\n",
            "\t\u001b[31mdeleted:    drive/MyDrive/Untitled0.ipynb\u001b[m\n",
            "\n",
            "Untracked files:\n",
            "  (use \"git add <file>...\" to include in what will be committed)\n",
            "\t\u001b[31m.config/\u001b[m\n",
            "\t\u001b[31m\"drive/MyDrive/0_\\330\\254-converti.pdf\"\u001b[m\n",
            "\t\u001b[31mdrive/MyDrive/803 TU 136 '2019'.xlsx\u001b[m\n",
            "\t\u001b[31mdrive/MyDrive/CV01.pdf\u001b[m\n",
            "\t\u001b[31mdrive/MyDrive/CV_2022-09-18-095107.pdf\u001b[m\n",
            "\t\u001b[31mdrive/MyDrive/DATA COLLECTION METHODHS/\u001b[m\n",
            "\t\u001b[31mdrive/MyDrive/RIB.pdf\u001b[m\n",
            "\t\u001b[31mdrive/MyDrive/RS 2023.pdf\u001b[m\n",
            "\t\u001b[31mdrive/MyDrive/Untitled1.ipynb\u001b[m\n",
            "\t\u001b[31mdrive/MyDrive/Untitled2.ipynb\u001b[m\n",
            "\t\u001b[31mdrive/MyDrive/Untitled3.ipynb\u001b[m\n",
            "\t\u001b[31m\"drive/MyDrive/\\331\\201\\331\\206 \\330\\247\\331\\204\\331\\204\\330\\247 \\331\\205\\330\\250\\330\\247\\331\\204\\330\\247\\330\\251.pdf\"\u001b[m\n",
            "\t\u001b[31msample_data/\u001b[m\n",
            "\n",
            "no changes added to commit (use \"git add\" and/or \"git commit -a\")\n"
          ]
        }
      ]
    }
  ]
}